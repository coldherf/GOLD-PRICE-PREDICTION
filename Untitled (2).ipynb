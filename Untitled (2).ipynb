{
 "cells": [
  {
   "cell_type": "markdown",
   "id": "7a423ea7",
   "metadata": {},
   "source": [
    "# Predicting Gold Prices"
   ]
  },
  {
   "cell_type": "code",
   "execution_count": 1,
   "id": "c753ce32",
   "metadata": {},
   "outputs": [],
   "source": [
    "import numpy as np\n",
    "import pandas as pd\n",
    "import matplotlib.pyplot as plt\n",
    "import seaborn as sns\n",
    "from sklearn.model_selection import train_test_split\n",
    "from sklearn.ensemble import RandomForestRegressor\n",
    "from sklearn import metrics"
   ]
  },
  {
   "cell_type": "markdown",
   "id": "0bf7dd6e",
   "metadata": {},
   "source": [
    "<font color='red'>Data collection and processing</font>"
   ]
  },
  {
   "cell_type": "code",
   "execution_count": 2,
   "id": "ca32ce2c",
   "metadata": {},
   "outputs": [
    {
     "data": {
      "text/html": [
       "<div>\n",
       "<style scoped>\n",
       "    .dataframe tbody tr th:only-of-type {\n",
       "        vertical-align: middle;\n",
       "    }\n",
       "\n",
       "    .dataframe tbody tr th {\n",
       "        vertical-align: top;\n",
       "    }\n",
       "\n",
       "    .dataframe thead th {\n",
       "        text-align: right;\n",
       "    }\n",
       "</style>\n",
       "<table border=\"1\" class=\"dataframe\">\n",
       "  <thead>\n",
       "    <tr style=\"text-align: right;\">\n",
       "      <th></th>\n",
       "      <th>Date</th>\n",
       "      <th>SPX</th>\n",
       "      <th>GLD</th>\n",
       "      <th>USO</th>\n",
       "      <th>SLV</th>\n",
       "      <th>EUR/USD</th>\n",
       "    </tr>\n",
       "  </thead>\n",
       "  <tbody>\n",
       "    <tr>\n",
       "      <th>0</th>\n",
       "      <td>1/2/2008</td>\n",
       "      <td>1447.160034</td>\n",
       "      <td>84.860001</td>\n",
       "      <td>78.470001</td>\n",
       "      <td>15.1800</td>\n",
       "      <td>1.471692</td>\n",
       "    </tr>\n",
       "    <tr>\n",
       "      <th>1</th>\n",
       "      <td>1/3/2008</td>\n",
       "      <td>1447.160034</td>\n",
       "      <td>85.570000</td>\n",
       "      <td>78.370003</td>\n",
       "      <td>15.2850</td>\n",
       "      <td>1.474491</td>\n",
       "    </tr>\n",
       "    <tr>\n",
       "      <th>2</th>\n",
       "      <td>1/4/2008</td>\n",
       "      <td>1411.630005</td>\n",
       "      <td>85.129997</td>\n",
       "      <td>77.309998</td>\n",
       "      <td>15.1670</td>\n",
       "      <td>1.475492</td>\n",
       "    </tr>\n",
       "    <tr>\n",
       "      <th>3</th>\n",
       "      <td>1/7/2008</td>\n",
       "      <td>1416.180054</td>\n",
       "      <td>84.769997</td>\n",
       "      <td>75.500000</td>\n",
       "      <td>15.0530</td>\n",
       "      <td>1.468299</td>\n",
       "    </tr>\n",
       "    <tr>\n",
       "      <th>4</th>\n",
       "      <td>1/8/2008</td>\n",
       "      <td>1390.189941</td>\n",
       "      <td>86.779999</td>\n",
       "      <td>76.059998</td>\n",
       "      <td>15.5900</td>\n",
       "      <td>1.557099</td>\n",
       "    </tr>\n",
       "    <tr>\n",
       "      <th>...</th>\n",
       "      <td>...</td>\n",
       "      <td>...</td>\n",
       "      <td>...</td>\n",
       "      <td>...</td>\n",
       "      <td>...</td>\n",
       "      <td>...</td>\n",
       "    </tr>\n",
       "    <tr>\n",
       "      <th>2285</th>\n",
       "      <td>5/8/2018</td>\n",
       "      <td>2671.919922</td>\n",
       "      <td>124.589996</td>\n",
       "      <td>14.060000</td>\n",
       "      <td>15.5100</td>\n",
       "      <td>1.186789</td>\n",
       "    </tr>\n",
       "    <tr>\n",
       "      <th>2286</th>\n",
       "      <td>5/9/2018</td>\n",
       "      <td>2697.790039</td>\n",
       "      <td>124.330002</td>\n",
       "      <td>14.370000</td>\n",
       "      <td>15.5300</td>\n",
       "      <td>1.184722</td>\n",
       "    </tr>\n",
       "    <tr>\n",
       "      <th>2287</th>\n",
       "      <td>5/10/2018</td>\n",
       "      <td>2723.070068</td>\n",
       "      <td>125.180000</td>\n",
       "      <td>14.410000</td>\n",
       "      <td>15.7400</td>\n",
       "      <td>1.191753</td>\n",
       "    </tr>\n",
       "    <tr>\n",
       "      <th>2288</th>\n",
       "      <td>5/14/2018</td>\n",
       "      <td>2730.129883</td>\n",
       "      <td>124.489998</td>\n",
       "      <td>14.380000</td>\n",
       "      <td>15.5600</td>\n",
       "      <td>1.193118</td>\n",
       "    </tr>\n",
       "    <tr>\n",
       "      <th>2289</th>\n",
       "      <td>5/16/2018</td>\n",
       "      <td>2725.780029</td>\n",
       "      <td>122.543800</td>\n",
       "      <td>14.405800</td>\n",
       "      <td>15.4542</td>\n",
       "      <td>1.182033</td>\n",
       "    </tr>\n",
       "  </tbody>\n",
       "</table>\n",
       "<p>2290 rows × 6 columns</p>\n",
       "</div>"
      ],
      "text/plain": [
       "           Date          SPX         GLD        USO      SLV   EUR/USD\n",
       "0      1/2/2008  1447.160034   84.860001  78.470001  15.1800  1.471692\n",
       "1      1/3/2008  1447.160034   85.570000  78.370003  15.2850  1.474491\n",
       "2      1/4/2008  1411.630005   85.129997  77.309998  15.1670  1.475492\n",
       "3      1/7/2008  1416.180054   84.769997  75.500000  15.0530  1.468299\n",
       "4      1/8/2008  1390.189941   86.779999  76.059998  15.5900  1.557099\n",
       "...         ...          ...         ...        ...      ...       ...\n",
       "2285   5/8/2018  2671.919922  124.589996  14.060000  15.5100  1.186789\n",
       "2286   5/9/2018  2697.790039  124.330002  14.370000  15.5300  1.184722\n",
       "2287  5/10/2018  2723.070068  125.180000  14.410000  15.7400  1.191753\n",
       "2288  5/14/2018  2730.129883  124.489998  14.380000  15.5600  1.193118\n",
       "2289  5/16/2018  2725.780029  122.543800  14.405800  15.4542  1.182033\n",
       "\n",
       "[2290 rows x 6 columns]"
      ]
     },
     "execution_count": 2,
     "metadata": {},
     "output_type": "execute_result"
    }
   ],
   "source": [
    "gold_data = pd.read_csv('gold_price_data.csv')\n",
    "gold_data"
   ]
  },
  {
   "cell_type": "code",
   "execution_count": 3,
   "id": "14ef6d79",
   "metadata": {},
   "outputs": [
    {
     "name": "stdout",
     "output_type": "stream",
     "text": [
      "<class 'pandas.core.frame.DataFrame'>\n",
      "RangeIndex: 2290 entries, 0 to 2289\n",
      "Data columns (total 6 columns):\n",
      " #   Column   Non-Null Count  Dtype  \n",
      "---  ------   --------------  -----  \n",
      " 0   Date     2290 non-null   object \n",
      " 1   SPX      2290 non-null   float64\n",
      " 2   GLD      2290 non-null   float64\n",
      " 3   USO      2290 non-null   float64\n",
      " 4   SLV      2290 non-null   float64\n",
      " 5   EUR/USD  2290 non-null   float64\n",
      "dtypes: float64(5), object(1)\n",
      "memory usage: 107.5+ KB\n"
     ]
    }
   ],
   "source": [
    "#getting some basic info about data\n",
    "gold_data.info()"
   ]
  },
  {
   "cell_type": "code",
   "execution_count": 4,
   "id": "db680cb9",
   "metadata": {},
   "outputs": [
    {
     "data": {
      "text/plain": [
       "Date       0\n",
       "SPX        0\n",
       "GLD        0\n",
       "USO        0\n",
       "SLV        0\n",
       "EUR/USD    0\n",
       "dtype: int64"
      ]
     },
     "execution_count": 4,
     "metadata": {},
     "output_type": "execute_result"
    }
   ],
   "source": [
    "#checking the no of missing values\n",
    "gold_data.isnull().sum()\n",
    "#so there are no null values, implies we can move forward with our "
   ]
  },
  {
   "cell_type": "code",
   "execution_count": 5,
   "id": "6d76dfe5",
   "metadata": {},
   "outputs": [
    {
     "data": {
      "text/html": [
       "<div>\n",
       "<style scoped>\n",
       "    .dataframe tbody tr th:only-of-type {\n",
       "        vertical-align: middle;\n",
       "    }\n",
       "\n",
       "    .dataframe tbody tr th {\n",
       "        vertical-align: top;\n",
       "    }\n",
       "\n",
       "    .dataframe thead th {\n",
       "        text-align: right;\n",
       "    }\n",
       "</style>\n",
       "<table border=\"1\" class=\"dataframe\">\n",
       "  <thead>\n",
       "    <tr style=\"text-align: right;\">\n",
       "      <th></th>\n",
       "      <th>SPX</th>\n",
       "      <th>GLD</th>\n",
       "      <th>USO</th>\n",
       "      <th>SLV</th>\n",
       "      <th>EUR/USD</th>\n",
       "    </tr>\n",
       "  </thead>\n",
       "  <tbody>\n",
       "    <tr>\n",
       "      <th>count</th>\n",
       "      <td>2290.000000</td>\n",
       "      <td>2290.000000</td>\n",
       "      <td>2290.000000</td>\n",
       "      <td>2290.000000</td>\n",
       "      <td>2290.000000</td>\n",
       "    </tr>\n",
       "    <tr>\n",
       "      <th>mean</th>\n",
       "      <td>1654.315776</td>\n",
       "      <td>122.732875</td>\n",
       "      <td>31.842221</td>\n",
       "      <td>20.084997</td>\n",
       "      <td>1.283653</td>\n",
       "    </tr>\n",
       "    <tr>\n",
       "      <th>std</th>\n",
       "      <td>519.111540</td>\n",
       "      <td>23.283346</td>\n",
       "      <td>19.523517</td>\n",
       "      <td>7.092566</td>\n",
       "      <td>0.131547</td>\n",
       "    </tr>\n",
       "    <tr>\n",
       "      <th>min</th>\n",
       "      <td>676.530029</td>\n",
       "      <td>70.000000</td>\n",
       "      <td>7.960000</td>\n",
       "      <td>8.850000</td>\n",
       "      <td>1.039047</td>\n",
       "    </tr>\n",
       "    <tr>\n",
       "      <th>25%</th>\n",
       "      <td>1239.874969</td>\n",
       "      <td>109.725000</td>\n",
       "      <td>14.380000</td>\n",
       "      <td>15.570000</td>\n",
       "      <td>1.171313</td>\n",
       "    </tr>\n",
       "    <tr>\n",
       "      <th>50%</th>\n",
       "      <td>1551.434998</td>\n",
       "      <td>120.580002</td>\n",
       "      <td>33.869999</td>\n",
       "      <td>17.268500</td>\n",
       "      <td>1.303297</td>\n",
       "    </tr>\n",
       "    <tr>\n",
       "      <th>75%</th>\n",
       "      <td>2073.010070</td>\n",
       "      <td>132.840004</td>\n",
       "      <td>37.827501</td>\n",
       "      <td>22.882500</td>\n",
       "      <td>1.369971</td>\n",
       "    </tr>\n",
       "    <tr>\n",
       "      <th>max</th>\n",
       "      <td>2872.870117</td>\n",
       "      <td>184.589996</td>\n",
       "      <td>117.480003</td>\n",
       "      <td>47.259998</td>\n",
       "      <td>1.598798</td>\n",
       "    </tr>\n",
       "  </tbody>\n",
       "</table>\n",
       "</div>"
      ],
      "text/plain": [
       "               SPX          GLD          USO          SLV      EUR/USD\n",
       "count  2290.000000  2290.000000  2290.000000  2290.000000  2290.000000\n",
       "mean   1654.315776   122.732875    31.842221    20.084997     1.283653\n",
       "std     519.111540    23.283346    19.523517     7.092566     0.131547\n",
       "min     676.530029    70.000000     7.960000     8.850000     1.039047\n",
       "25%    1239.874969   109.725000    14.380000    15.570000     1.171313\n",
       "50%    1551.434998   120.580002    33.869999    17.268500     1.303297\n",
       "75%    2073.010070   132.840004    37.827501    22.882500     1.369971\n",
       "max    2872.870117   184.589996   117.480003    47.259998     1.598798"
      ]
     },
     "execution_count": 5,
     "metadata": {},
     "output_type": "execute_result"
    }
   ],
   "source": [
    "#getting the statistical measure of the data\n",
    "gold_data.describe()"
   ]
  },
  {
   "cell_type": "markdown",
   "id": "6c8e07ea",
   "metadata": {},
   "source": [
    "<font color='red'>Corrrelation:-  1. Positive correlation 2. Negative correlation</font>"
   ]
  },
  {
   "cell_type": "code",
   "execution_count": 6,
   "id": "957eab95",
   "metadata": {},
   "outputs": [],
   "source": [
    "corr = gold_data.corr()"
   ]
  },
  {
   "cell_type": "code",
   "execution_count": 13,
   "id": "a22d092b",
   "metadata": {},
   "outputs": [
    {
     "data": {
      "text/plain": [
       "<AxesSubplot:>"
      ]
     },
     "execution_count": 13,
     "metadata": {},
     "output_type": "execute_result"
    },
    {
     "data": {
      "image/png": "[encoded data removed]",
      "text/plain": [
       "<Figure size 576x576 with 2 Axes>"
      ]
     },
     "metadata": {
      "needs_background": "light"
     },
     "output_type": "display_data"
    }
   ],
   "source": [
    "#constructing the heat map to understand the correlation\n",
    "plt.figure(figsize = (8,8) )\n",
    "sns.heatmap(corr, cbar = True, square=True, fmt='.1f', annot=True, annot_kws={'size':8}, cmap='Greens')"
   ]
  },
  {
   "cell_type": "code",
   "execution_count": 14,
   "id": "9d92bc63",
   "metadata": {},
   "outputs": [
    {
     "name": "stdout",
     "output_type": "stream",
     "text": [
      "SPX        0.049345\n",
      "GLD        1.000000\n",
      "USO       -0.186360\n",
      "SLV        0.866632\n",
      "EUR/USD   -0.024375\n",
      "Name: GLD, dtype: float64\n"
     ]
    }
   ],
   "source": [
    "#correlation values of GLD\n",
    "print(corr['GLD'])"
   ]
  },
  {
   "cell_type": "code",
   "execution_count": 16,
   "id": "b7621055",
   "metadata": {},
   "outputs": [
    {
     "name": "stderr",
     "output_type": "stream",
     "text": [
      "C:\\Users\\Mukesh\\anaconda3\\lib\\site-packages\\seaborn\\distributions.py:2619: FutureWarning: `distplot` is a deprecated function and will be removed in a future version. Please adapt your code to use either `displot` (a figure-level function with similar flexibility) or `histplot` (an axes-level function for histograms).\n",
      "  warnings.warn(msg, FutureWarning)\n"
     ]
    },
    {
     "data": {
      "text/plain": [
       "<AxesSubplot:xlabel='GLD', ylabel='Density'>"
      ]
     },
     "execution_count": 16,
     "metadata": {},
     "output_type": "execute_result"
    },
    {
     "data": {
      "image/png": "[encoded data removed]",
      "text/plain": [
       "<Figure size 432x288 with 1 Axes>"
      ]
     },
     "metadata": {
      "needs_background": "light"
     },
     "output_type": "display_data"
    }
   ],
   "source": [
    "#checking the distribution of gold price\n",
    "sns.distplot(gold_data['GLD'], color = 'green')"
   ]
  },
  {
   "cell_type": "markdown",
   "id": "f792373f",
   "metadata": {},
   "source": [
    "<font color='red'>Splitting the features and Targets</font>"
   ]
  },
  {
   "cell_type": "code",
   "execution_count": 18,
   "id": "feec8a91",
   "metadata": {},
   "outputs": [],
   "source": [
    "y = gold_data['GLD']\n",
    "x = gold_data.drop(['Date', 'GLD'], axis=1)"
   ]
  },
  {
   "cell_type": "code",
   "execution_count": 19,
   "id": "72138760",
   "metadata": {},
   "outputs": [
    {
     "name": "stdout",
     "output_type": "stream",
     "text": [
      "              SPX        USO      SLV   EUR/USD\n",
      "0     1447.160034  78.470001  15.1800  1.471692\n",
      "1     1447.160034  78.370003  15.2850  1.474491\n",
      "2     1411.630005  77.309998  15.1670  1.475492\n",
      "3     1416.180054  75.500000  15.0530  1.468299\n",
      "4     1390.189941  76.059998  15.5900  1.557099\n",
      "...           ...        ...      ...       ...\n",
      "2285  2671.919922  14.060000  15.5100  1.186789\n",
      "2286  2697.790039  14.370000  15.5300  1.184722\n",
      "2287  2723.070068  14.410000  15.7400  1.191753\n",
      "2288  2730.129883  14.380000  15.5600  1.193118\n",
      "2289  2725.780029  14.405800  15.4542  1.182033\n",
      "\n",
      "[2290 rows x 4 columns] 0        84.860001\n",
      "1        85.570000\n",
      "2        85.129997\n",
      "3        84.769997\n",
      "4        86.779999\n",
      "           ...    \n",
      "2285    124.589996\n",
      "2286    124.330002\n",
      "2287    125.180000\n",
      "2288    124.489998\n",
      "2289    122.543800\n",
      "Name: GLD, Length: 2290, dtype: float64\n"
     ]
    }
   ],
   "source": [
    "print(x,y)"
   ]
  },
  {
   "cell_type": "markdown",
   "id": "039ca0fc",
   "metadata": {},
   "source": [
    "<font color='red'>Splitting into Training data and Test data</font>"
   ]
  },
  {
   "cell_type": "code",
   "execution_count": 20,
   "id": "fa313372",
   "metadata": {},
   "outputs": [],
   "source": [
    "x_train, x_test, y_train, y_test = train_test_split(x, y, test_size = .20, random_state = 2)"
   ]
  },
  {
   "cell_type": "markdown",
   "id": "a74e0ca7",
   "metadata": {},
   "source": [
    "<font color='red'>Model Training: Random Forest Regressor</font>"
   ]
  },
  {
   "cell_type": "code",
   "execution_count": 21,
   "id": "ca5ee869",
   "metadata": {},
   "outputs": [],
   "source": [
    "m = RandomForestRegressor(n_estimators=100)"
   ]
  },
  {
   "cell_type": "code",
   "execution_count": 22,
   "id": "8b49c35a",
   "metadata": {},
   "outputs": [
    {
     "data": {
      "text/plain": [
       "RandomForestRegressor()"
      ]
     },
     "execution_count": 22,
     "metadata": {},
     "output_type": "execute_result"
    }
   ],
   "source": [
    "m.fit(x_train, y_train)"
   ]
  },
  {
   "cell_type": "markdown",
   "id": "6611a376",
   "metadata": {},
   "source": [
    "<font color='red'>Model Evaluation</font>"
   ]
  },
  {
   "cell_type": "code",
   "execution_count": 24,
   "id": "65636601",
   "metadata": {},
   "outputs": [],
   "source": [
    "#prediction on test data\n",
    "test_data_prediction = m.predict(x_test)"
   ]
  },
  {
   "cell_type": "code",
   "execution_count": 25,
   "id": "cee707c2",
   "metadata": {},
   "outputs": [
    {
     "name": "stdout",
     "output_type": "stream",
     "text": [
      "[168.76929952  82.09959953 116.3117003  127.69660091 120.8476013\n",
      " 154.71029751 149.94409896 126.2679999  117.58359874 126.02850062\n",
      " 116.35540088 170.68130049 141.4086985  167.76369858 115.13750003\n",
      " 117.43370026 138.59860354 170.35550088 159.31860297 158.43319936\n",
      " 155.15660013 125.0071004  175.42860044 157.23260376 125.17100019\n",
      "  93.93769989  78.0187998  120.37269975 119.08499901 167.45189955\n",
      "  88.17130074 125.38479979  90.97210045 117.6844005  121.08179925\n",
      " 136.72400171 115.50890111 115.18740066 147.26080002 107.07810091\n",
      " 104.38300226  87.15009792 126.72430098 117.82430007 152.76159884\n",
      " 119.59410005 108.39409972 107.99669814  93.15630052 127.11299787\n",
      "  75.06340052 113.523999   121.20310016 111.23169946 118.90899906\n",
      " 120.56479962 159.49199919 169.11780137 147.12549726  85.65249866\n",
      "  94.27130047  86.7532989   90.67339994 118.97630079 126.42890039\n",
      " 127.62950028 170.23450034 122.21109941 117.299899    98.43550028\n",
      " 168.07030129 143.30739904 132.28010272 121.1719022  121.76779958\n",
      " 119.80950062 114.60570184 118.23370068 107.04950064 127.9329005\n",
      " 114.15199934 106.96759998 116.73940061 119.59099859  88.71580036\n",
      "  88.2837988  146.56360227 127.15100062 113.95629996 110.10599821\n",
      " 108.15479911  77.65509859 169.59390195 113.97899917 121.52569921\n",
      " 127.7205015  154.86979873  91.74309928 135.3230014  158.81720333\n",
      " 125.99370062 125.2741005  130.50350149 114.96310144 119.95140036\n",
      "  92.12929975 110.08239892 167.39509943 156.36409939 114.04029929\n",
      " 106.19660124  79.77289963 113.3820003  125.72650038 107.13119926\n",
      " 119.1329009  155.87550321 159.93870006 120.18379984 134.66570214\n",
      " 101.36339982 117.6194981  119.41280009 112.87850065 102.83949912\n",
      " 160.46539873  99.08360028 148.48089936 125.54640105 169.34329946\n",
      " 125.80569883 127.36909724 127.36120129 113.69049945 112.84440065\n",
      " 123.49379921 102.18809877  88.98840042 124.59609956 101.93699928\n",
      " 106.95649909 113.40430086 117.35960045  99.00609952 121.79060027\n",
      " 163.35829973  87.48549907 106.73370002 117.25290076 127.78110058\n",
      " 124.17000067  80.82999923 120.32260056 157.1095981   88.03909938\n",
      " 110.17909942 118.93099923 170.735299   103.03469895 105.66670075\n",
      " 122.45900034 157.64399778  87.69859829  93.28900047 113.20440031\n",
      " 177.18800009 114.43469963 119.44070004  94.71070082 125.70880035\n",
      " 166.2395013  114.84430113 116.77480157  88.27489879 148.76350113\n",
      " 120.41039964  89.64230004 112.13230002 117.42370033 118.67380124\n",
      "  88.23929992  94.25789966 116.89250014 118.47890206 120.34860048\n",
      " 126.68979806 121.94529957 151.5778996  165.2643008  118.66739965\n",
      " 120.3964013  150.8517014  118.66039951 171.37049886 105.42289933\n",
      " 105.07970099 148.8422014  113.81890106 124.86610087 147.35740037\n",
      " 119.64410107 115.26890039 112.3635     113.36890205 142.26070197\n",
      " 117.86859777 102.94420047 115.84150107 103.84710179  98.52470034\n",
      " 117.27240097  90.64870034  91.59920045 153.43829929 102.67789965\n",
      " 154.93660118 114.39500152 138.51090119  90.22169847 115.47009937\n",
      " 114.30649993 122.96550027 121.73529999 165.41950146  92.8975996\n",
      " 135.32610058 121.32119942 120.77490049 104.78140039 142.39220237\n",
      " 121.50439937 116.62480049 113.59690047 127.04839778 122.78759962\n",
      " 125.73709966 121.20480066  86.8523987  132.5950013  143.3139023\n",
      "  92.64299948 157.86939932 158.98340236 126.52939906 164.55119946\n",
      " 108.89819994 109.57330077 103.59349828  94.27860049 127.45960235\n",
      " 107.00240064 160.84619929 121.77320022 132.07660044 130.38250142\n",
      " 161.15789991  90.10579867 175.38580178 127.44070013 126.67979852\n",
      "  86.42729931 124.66379965 150.61809746  89.68770026 106.86580012\n",
      " 108.86349997  83.83119914 135.62049949 154.91630191 137.51420303\n",
      "  73.99930005 152.15140213 126.07649955 126.72699977 127.41279936\n",
      " 108.61189952 156.24100029 114.4236011  117.14990138 125.37149974\n",
      " 153.80420131 121.32330009 156.47179887  92.90880068 125.47220134\n",
      " 125.72080059  88.06630037  92.16049958 126.27089914 128.31020355\n",
      " 113.17320083 117.72319761 120.97960025 127.15339794 119.73250107\n",
      " 136.34290117  93.85999924 119.73040022 113.24230104  94.35909957\n",
      " 108.90019981  86.72549896 108.89089962  89.62370019  92.58100039\n",
      " 131.26860338 162.25519982  89.53300001 119.6763008  133.16920176\n",
      " 123.81940017 127.90150143 101.95629838  88.86929853 131.90500111\n",
      " 120.51190072 108.59539975 166.95140085 115.3412003   86.67609861\n",
      " 119.03070036  91.15309963 162.25820042 116.50270067 121.49149995\n",
      " 160.30359813 120.0707995  112.80669954 108.56199871 126.7412999\n",
      "  76.53300005 103.0607998  127.28860239 121.81129922  92.58530029\n",
      " 131.72360104 118.04310109 115.99689988 154.60380287 159.27080078\n",
      " 110.16809995 155.45379785 119.28350122 160.5178014  118.43750045\n",
      " 158.07219888 115.1057989  116.6565002  148.65319932 114.87020107\n",
      " 125.71619889 166.10099918 117.71820032 125.26869904 153.02770373\n",
      " 153.53500224 132.24440039 114.71510068 121.14600225 124.80870059\n",
      "  89.80870064 123.00099983 155.12960175 111.56060021 106.68629982\n",
      " 162.36330113 118.57229982 165.69960031 134.21030053 114.91639929\n",
      " 153.03759882 168.4454988  114.98470031 114.06140118 157.99519827\n",
      "  85.27399868 127.10030102 127.90420053 128.97409995 124.35820072\n",
      " 124.00330069  90.7375003  153.12690017  96.99700008 137.84550023\n",
      "  89.12029912 106.85890017 115.03600064 112.81980083 124.36729936\n",
      "  91.2926991  125.37210076 162.50089842 119.87389941 165.00580119\n",
      " 126.73099809 112.16089991 127.55619925  94.83039905  90.98969988\n",
      " 103.09749897 120.85459988  83.0946996  126.41119951 160.52070472\n",
      " 117.33580083 118.15099997 119.81069975 123.0059001  120.0444013\n",
      " 121.61319977 118.38430058 106.7606     148.2108001  126.26219828\n",
      " 115.79450068  74.1610003  127.75350083 154.57590064 123.11479999\n",
      " 125.60040058  88.86240026 103.54389876 124.30510052 120.26480028\n",
      "  73.26200097 151.63770063 121.14340037 104.79720022  86.12419768\n",
      " 115.12159879 172.28589817 119.62940032 160.58629775 113.2976994\n",
      " 121.48100023 118.3238014   95.95469988 118.32500013 125.86240043\n",
      " 118.39949963  95.81590046 154.36830129 122.10740011 147.07030067\n",
      " 159.67500205 113.58100012 122.54269925 149.91759817 127.27090032\n",
      " 165.98380038 136.28580036 120.03840004 167.669799   108.37699914\n",
      " 121.88369846 140.60480152 106.15599913]\n"
     ]
    }
   ],
   "source": [
    "print(test_data_prediction)"
   ]
  },
  {
   "cell_type": "code",
   "execution_count": 26,
   "id": "4f1c6327",
   "metadata": {},
   "outputs": [
    {
     "name": "stdout",
     "output_type": "stream",
     "text": [
      "R squared error 0.9888672335916757\n"
     ]
    }
   ],
   "source": [
    "#R squared error\n",
    "error_score = metrics.r2_score(y_test, test_data_prediction)\n",
    "print('R squared error', error_score)"
   ]
  },
  {
   "cell_type": "markdown",
   "id": "82e10edd",
   "metadata": {},
   "source": [
    "Compare the Actual values and Predicted values in a plot"
   ]
  },
  {
   "cell_type": "code",
   "execution_count": 27,
   "id": "3ace739e",
   "metadata": {},
   "outputs": [],
   "source": [
    "y_test= list(y_test)"
   ]
  },
  {
   "cell_type": "code",
   "execution_count": 29,
   "id": "550aa9e7",
   "metadata": {},
   "outputs": [
    {
     "data": {
      "image/png": "[encoded data removed]",
      "text/plain": [
       "<Figure size 432x288 with 1 Axes>"
      ]
     },
     "metadata": {
      "needs_background": "light"
     },
     "output_type": "display_data"
    }
   ],
   "source": [
    "plt.plot(y_test, color='green' , label = 'Actual value')\n",
    "plt.plot(test_data_prediction, color = 'red', label = 'Predicted value')\n",
    "plt.title('Actual price vs Predicted price')\n",
    "plt.xlabel('Number of values')\n",
    "plt.ylabel('GLD price')\n",
    "plt.legend()\n",
    "plt.show()"
   ]
  },
  {
   "cell_type": "code",
   "execution_count": null,
   "id": "6d06f2a6",
   "metadata": {},
   "outputs": [],
   "source": []
  }
 ],
 "metadata": {
  "kernelspec": {
   "display_name": "Python 3 (ipykernel)",
   "language": "python",
   "name": "python3"
  },
  "language_info": {
   "codemirror_mode": {
    "name": "ipython",
    "version": 3
   },
   "file_extension": ".py",
   "mimetype": "text/x-python",
   "name": "python",
   "nbconvert_exporter": "python",
   "pygments_lexer": "ipython3",
   "version": "3.9.7"
  }
 },
 "nbformat": 4,
 "nbformat_minor": 5
}
